{
 "cells": [
  {
   "cell_type": "code",
   "execution_count": 1,
   "metadata": {},
   "outputs": [
    {
     "name": "stdout",
     "output_type": "stream",
     "text": [
      "        FechaAlquiler\n",
      "0 2023-10-26 12:30:00\n",
      "1 2023-10-27 14:45:00\n",
      "      FechaDevolucion\n",
      "0 2023-10-28 10:00:00\n",
      "1 2023-10-29 11:15:00\n"
     ]
    }
   ],
   "source": [
    "'''\n",
    "Book con funciones de limpieza\n",
    "'''\n",
    "import pandas as pd\n",
    "\n",
    "def verificar_nulos(df):\n",
    "    \n",
    "    null = df.isnull().sum()\n",
    "    nan = df.inan().sum()\n",
    "\n",
    "    return pd.DataFrame({'Valores Nulos': null,'Valores Nan': nan})\n",
    "\n",
    "def titulos (df):\n",
    "    return df.columns.str.replace('_',' ').stre.title()\n",
    "\n",
    "def duplicados (df):\n",
    "    return df.duplicated().sum()\n",
    "\n",
    "def convertir_fecha(df, column_name, date_format):\n",
    "    df[column_name] = pd.to_datetime(df[column_name], format=date_format)\n",
    "    return df\n"
   ]
  },
  {
   "cell_type": "code",
   "execution_count": null,
   "metadata": {},
   "outputs": [],
   "source": [
    "'''\"funciones limpieza.ipynb\"\n",
    "\n",
    "Puedes crear una biblioteca (o módulo) de Python que contenga tus funciones personalizadas y luego importar ese módulo en tu notebook \n",
    "Jupyter o en cualquier otro script de Python. Aquí tienes los pasos para hacerlo:\n",
    "\n",
    "**Paso 1: Crear tu módulo de Python personalizado**\n",
    "\n",
    "1. Abre un editor de texto o un IDE (entorno de desarrollo integrado) como VSCode, PyCharm o cualquier otro de tu elección.\n",
    "\n",
    "2. Crea un nuevo archivo de Python en el que definirás tus funciones personalizadas. Por ejemplo, puedes nombrar este archivo \"mis_funciones.py\".\n",
    "\n",
    "3. Define tus funciones en ese archivo. Por ejemplo:\n",
    "\n",
    "```python\n",
    "# mis_funciones.py\n",
    "\n",
    "def suma(a, b):\n",
    "    return a + b\n",
    "\n",
    "def resta(a, b):\n",
    "    return a - b\n",
    "```\n",
    "\n",
    "**Paso 2: Guarda tu módulo**\n",
    "\n",
    "Guarda el archivo con tus funciones personalizadas en un directorio de tu elección. Asegúrate de recordar la ruta a este archivo, ya que necesitarás\n",
    "esa información para importar el módulo en tu notebook.\n",
    "\n",
    "**Paso 3: Importar tu módulo en el notebook Jupyter**\n",
    "\n",
    "Ahora puedes importar el módulo que acabas de crear en tu notebook Jupyter:\n",
    "\n",
    "python import sys\n",
    "sys.path.append(\"/ruta/al/directorio/del/modulo\")  # Reemplaza \"/ruta/al/directorio/del/modulo\" con la ruta real al directorio que contiene tu módulo.\n",
    "\n",
    "import mis_funciones  # Importa el módulo que contiene tus funciones personalizadas\n",
    "\n",
    "# Ahora puedes utilizar las funciones definidas en tu módulo:\n",
    "resultado_suma = mis_funciones.suma(5, 3)\n",
    "print(resultado_suma)\n",
    "\n",
    "\n",
    "Asegúrate de reemplazar `\"/ruta/al/directorio/del/modulo\"` con la ruta real al directorio que contiene tu módulo. Luego, puedes importar y utilizar\n",
    "las funciones definidas en tu módulo en tu notebook.\n",
    "\n",
    "Ten en cuenta que, en un entorno de producción o colaborativo, generalmente se empaquetan estas funciones en un paquete o biblioteca de Python adecuada \n",
    "y se distribuyen a través de herramientas como `pip`. Sin embargo, este enfoque te permite crear una biblioteca personalizada para su uso en un entorno \n",
    "local o para experimentos personales.\n",
    "\n",
    "'''"
   ]
  }
 ],
 "metadata": {
  "kernelspec": {
   "display_name": "clase",
   "language": "python",
   "name": "python3"
  },
  "language_info": {
   "codemirror_mode": {
    "name": "ipython",
    "version": 3
   },
   "file_extension": ".py",
   "mimetype": "text/x-python",
   "name": "python",
   "nbconvert_exporter": "python",
   "pygments_lexer": "ipython3",
   "version": "3.10.13"
  }
 },
 "nbformat": 4,
 "nbformat_minor": 2
}
